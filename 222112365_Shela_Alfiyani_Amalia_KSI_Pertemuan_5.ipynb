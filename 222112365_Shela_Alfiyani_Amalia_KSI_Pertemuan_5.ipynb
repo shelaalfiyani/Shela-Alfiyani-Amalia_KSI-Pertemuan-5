{
  "nbformat": 4,
  "nbformat_minor": 0,
  "metadata": {
    "colab": {
      "provenance": []
    },
    "kernelspec": {
      "name": "python3",
      "display_name": "Python 3"
    },
    "language_info": {
      "name": "python"
    }
  },
  "cells": [
    {
      "cell_type": "markdown",
      "source": [
        "#### **Nama   : Shela Alfiyani Amalia**\n",
        "#### **NIM    : 222112365**\n",
        "#### **Kelas  : 3SI2**"
      ],
      "metadata": {
        "id": "O2K-SR6MSkZ3"
      }
    },
    {
      "cell_type": "markdown",
      "source": [
        "# **Penugasan KSI Pertemuan 5**\n",
        "\n",
        "Buat Algoritma, hitung worse case kompleksitas waktu (O big O) dari masing2x algoritma, program (encrpyt dan decrypt) cipher ,  bahasa program bebas, untuk kasus ciphers Transposition ciphers dan Substitution ciphers"
      ],
      "metadata": {
        "id": "SME-z92FSmsE"
      }
    },
    {
      "cell_type": "markdown",
      "source": [
        "## **Transposition ciphers**"
      ],
      "metadata": {
        "id": "qwfAaRisS1Ic"
      }
    },
    {
      "cell_type": "code",
      "execution_count": 9,
      "metadata": {
        "colab": {
          "base_uri": "https://localhost:8080/"
        },
        "id": "GRppVNmkGbvl",
        "outputId": "6b56f062-75a5-49c8-9e9e-3beada4af7a8"
      },
      "outputs": [
        {
          "output_type": "stream",
          "name": "stdout",
          "text": [
            "Apakah Anda ingin melakukan enkripsi (e) atau dekripsi (d)? e\n",
            "Masukkan pesan yang ingin dienkripsi: shelaalfiyaniamalia\n",
            "Masukkan kunci enkripsi (jumlah kolom): 4\n",
            "Pesan terenkripsi: saaahlnlefiiliaaaym\n"
          ]
        }
      ],
      "source": [
        "def encrypt(message, key):\n",
        "    # Menghitung jumlah baris\n",
        "    num_rows = (len(message) + key - 1) // key\n",
        "    # Membuat grid kosong\n",
        "    matrix = [''] * num_rows\n",
        "\n",
        "    row, col = 0, 0\n",
        "\n",
        "    for char in message:\n",
        "        matrix[row] += char\n",
        "        row += 1\n",
        "        if row == num_rows or (row == num_rows - 1 and col >= len(message) % key):\n",
        "            row = 0\n",
        "            col += 1\n",
        "\n",
        "    # Menggabungkan hasil enkripsi\n",
        "    return ''.join(matrix)\n",
        "\n",
        "\n",
        "def decrypt(ciphertext, key):\n",
        "    # Menghitung jumlah baris\n",
        "    num_rows = (len(ciphertext) + key - 1) // key\n",
        "    # Membuat grid kosong\n",
        "    matrix = [''] * num_rows\n",
        "\n",
        "    # Variabel untuk indeks pesan terdekripsi\n",
        "    idx = 0\n",
        "\n",
        "    for col in range(key):\n",
        "        row = 0\n",
        "        while row < num_rows and idx < len(ciphertext):\n",
        "            matrix[row] += ciphertext[idx]\n",
        "            row += 1\n",
        "            idx += 1\n",
        "\n",
        "    # Menggabungkan hasil dekripsi\n",
        "    return ''.join(matrix)\n",
        "\n",
        "\n",
        "def main():\n",
        "    choice = input(\"Apakah Anda ingin melakukan enkripsi (e) atau dekripsi (d)? \")\n",
        "\n",
        "    if choice.lower() == 'e':\n",
        "        plaintext = input(\"Masukkan pesan yang ingin dienkripsi: \")\n",
        "        key = int(input(\"Masukkan kunci enkripsi (jumlah kolom): \"))\n",
        "        encrypted_message = encrypt(plaintext, key)\n",
        "        print(\"Pesan terenkripsi:\", encrypted_message)\n",
        "    elif choice.lower() == 'd':\n",
        "        ciphertext = input(\"Masukkan pesan yang ingin didekripsi: \")\n",
        "        key = int(input(\"Masukkan kunci dekripsi (jumlah kolom): \"))\n",
        "        decrypted_message = decrypt(ciphertext, key)\n",
        "        print(\"Pesan terdekripsi:\", decrypted_message)\n",
        "    else:\n",
        "        print(\"Pilihan tidak valid.\")\n",
        "\n",
        "\n",
        "if __name__ == \"__main__\":\n",
        "    main()"
      ]
    },
    {
      "cell_type": "markdown",
      "source": [
        "## **Substitution ciphers**"
      ],
      "metadata": {
        "id": "oA16P-oTS529"
      }
    },
    {
      "cell_type": "code",
      "source": [
        "import random, string\n",
        "\n",
        "def generate_cipher_alphabet(original_alphabet):\n",
        "    key = random.randint(1, 26)\n",
        "    shifted_alphabet = ''\n",
        "    for char in original_alphabet:\n",
        "        if char.isalpha():\n",
        "            shifted_char = chr(((ord(char.upper()) - 65 + key) % 26) + 65)\n",
        "            if char.islower():\n",
        "                shifted_char = shifted_char.lower()\n",
        "            shifted_alphabet += shifted_char\n",
        "        else:\n",
        "            shifted_alphabet += char\n",
        "    return shifted_alphabet\n",
        "\n",
        "def encrypt_substitution_cipher(plaintext, original_alphabet, cipher_alphabet):\n",
        "    translation_table = str.maketrans(original_alphabet, cipher_alphabet)\n",
        "    encrypted_message = plaintext.translate(translation_table)\n",
        "    return encrypted_message\n",
        "\n",
        "\n",
        "def decrypt_substitution_cipher(ciphertext, original_alphabet, cipher_alphabet):\n",
        "    translation_table = str.maketrans(cipher_alphabet, original_alphabet)\n",
        "    decrypted_message = ciphertext.translate(translation_table)\n",
        "    return decrypted_message\n",
        "\n",
        "    # Contoh penggunaan\n",
        "original_alphabet = 'ABCDEFGHIJKLMNOPQRSTUVWXYZ'\n",
        "cipher_alphabet = generate_cipher_alphabet(original_alphabet)\n",
        "\n",
        "message = \"INI HARI SENIN\"\n",
        "encrypted = encrypt_substitution_cipher(message, original_alphabet, cipher_alphabet)\n",
        "decrypted = decrypt_substitution_cipher(encrypted, original_alphabet, cipher_alphabet)\n",
        "\n",
        "print(\"Original Message:\", message)\n",
        "print(\"Encrypted Message:\", encrypted)\n",
        "print(\"Decrypted Message:\", decrypted)\n",
        "\n",
        "\n"
      ],
      "metadata": {
        "colab": {
          "base_uri": "https://localhost:8080/"
        },
        "id": "qDiMpsE_Lf5X",
        "outputId": "492804a5-44b6-4305-f4a0-c819b18e704e"
      },
      "execution_count": 5,
      "outputs": [
        {
          "output_type": "stream",
          "name": "stdout",
          "text": [
            "Original Message: INI HARI SENIN\n",
            "Encrypted Message: TYT SLCT DPYTY\n",
            "Decrypted Message: INI HARI SENIN\n"
          ]
        }
      ]
    }
  ]
}
